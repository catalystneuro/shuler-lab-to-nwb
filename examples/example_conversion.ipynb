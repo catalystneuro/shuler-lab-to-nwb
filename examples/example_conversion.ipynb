{
 "cells": [
  {
   "cell_type": "code",
   "execution_count": null,
   "id": "0f44ea45-e719-4771-930b-31e885a9cdf1",
   "metadata": {},
   "outputs": [],
   "source": [
    "%load_ext autoreload\n",
    "%autoreload 2"
   ]
  },
  {
   "cell_type": "markdown",
   "id": "e15cd13f-f141-4cef-96c5-718dbec30dd3",
   "metadata": {},
   "source": [
    "# Run NWB conversion"
   ]
  },
  {
   "cell_type": "code",
   "execution_count": null,
   "id": "831a67c4-7af8-4e4a-886f-f6bf30527ac8",
   "metadata": {},
   "outputs": [],
   "source": [
    "from shuler_lab_to_nwb import conversion\n",
    "\n",
    "conversion.run_conversion(\n",
    "    spikeglx_file_path=\"/media/luiz/storage2/taufferconsulting/client_ben/project_shuler/ES029_2022-09-14_bot72_0_g0/ES029_2022-09-14_bot72_0_g0_imec0/ES029_2022-09-14_bot72_0_g0_t0.imec0.ap.bin\",\n",
    "    trials_file_path=\"/media/luiz/storage2/taufferconsulting/client_ben/project_shuler/ES029_2022-09-14_bot72_0_g0/data_2022-09-14_12-13-31.csv\",\n",
    "    reference_timestamps_file_path=\"/media/luiz/storage2/taufferconsulting/client_ben/project_shuler/ES029_2022-09-14_bot72_0_g0/ES029_2022-09-14_bot72_0_g0_tcat.imec0.ap.SY_384_6_0.txt\",\n",
    "    output_nwb_file=\"outputfile.nwb\"\n",
    ")"
   ]
  },
  {
   "cell_type": "markdown",
   "id": "06c5b748-2cd1-4af4-93dd-0a1dd36f8008",
   "metadata": {},
   "source": [
    "# Open the newly created NWB file"
   ]
  },
  {
   "cell_type": "code",
   "execution_count": null,
   "id": "6310c936-a9f3-4960-b28b-da6833b5711b",
   "metadata": {},
   "outputs": [],
   "source": [
    "from pynwb import NWBHDF5IO\n",
    "\n",
    "io = NWBHDF5IO('outputfile.nwb', mode='r')\n",
    "nwbfile = io.read()\n",
    "\n",
    "nwbfile"
   ]
  },
  {
   "cell_type": "code",
   "execution_count": null,
   "id": "8151acfc-8e0a-4c01-b526-3059acc8df0e",
   "metadata": {},
   "outputs": [],
   "source": [
    "io.close()"
   ]
  },
  {
   "cell_type": "markdown",
   "id": "b150124f-ce29-4ce5-a043-5cdfc19676c5",
   "metadata": {},
   "source": [
    "# Open and explore the newly created NWB file using NWBWidgets\n",
    "\n",
    "https://nwb-widgets.readthedocs.io/en/latest/index.html"
   ]
  },
  {
   "cell_type": "code",
   "execution_count": null,
   "id": "1f83a99c-e6d6-4663-8937-1997dd22698d",
   "metadata": {},
   "outputs": [],
   "source": [
    "from pynwb import NWBHDF5IO\n",
    "from nwbwidgets import nwb2widget\n",
    "\n",
    "io = NWBHDF5IO('outputfile.nwb', mode='r')\n",
    "nwbfile = io.read()\n",
    "\n",
    "nwb2widget(nwbfile)"
   ]
  },
  {
   "cell_type": "code",
   "execution_count": null,
   "id": "cba7a37f-b093-40da-abd0-1146ef485cc5",
   "metadata": {},
   "outputs": [],
   "source": []
  }
 ],
 "metadata": {
  "kernelspec": {
   "display_name": "env_shuler",
   "language": "python",
   "name": "env_shuler"
  },
  "language_info": {
   "codemirror_mode": {
    "name": "ipython",
    "version": 3
   },
   "file_extension": ".py",
   "mimetype": "text/x-python",
   "name": "python",
   "nbconvert_exporter": "python",
   "pygments_lexer": "ipython3",
   "version": "3.8.15"
  }
 },
 "nbformat": 4,
 "nbformat_minor": 5
}
