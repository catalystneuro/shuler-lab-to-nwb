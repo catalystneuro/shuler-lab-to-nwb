{
 "cells": [
  {
   "cell_type": "code",
   "execution_count": null,
   "id": "fa61c83a-ee22-4031-88be-078e2db77b69",
   "metadata": {},
   "outputs": [],
   "source": [
    "%load_ext autoreload\n",
    "%autoreload 2"
   ]
  },
  {
   "cell_type": "code",
   "execution_count": null,
   "id": "afb0f13c-b902-4ea4-ab66-1e412978ef59",
   "metadata": {},
   "outputs": [],
   "source": [
    "import spikeinterface.extractors as se\n",
    "from spikeinterface.sorters import run_sorter_local, Kilosort2_5Sorter, Kilosort3Sorter, get_sorter_params_description\n",
    "import os"
   ]
  },
  {
   "cell_type": "code",
   "execution_count": null,
   "id": "b662d5c6-03d3-4d93-8753-742de2dc41f6",
   "metadata": {},
   "outputs": [],
   "source": [
    "folder_path = \"/media/luiz/storage2/taufferconsulting/client_ben/project_shuler/ES029_2022-09-14_bot72_0_g0/ES029_2022-09-14_bot72_0_g0_imec0\"\n",
    "\n",
    "read_recording_kwargs = {}\n",
    "\n",
    "recording = se.read_spikeglx(\n",
    "    folder_path=folder_path,\n",
    "    **read_recording_kwargs\n",
    ")\n",
    "recording"
   ]
  },
  {
   "cell_type": "code",
   "execution_count": null,
   "id": "b6f89f11-ea0f-47e8-8fd1-2f5da993bc68",
   "metadata": {},
   "outputs": [],
   "source": [
    "# use subrecording for faster testing\n",
    "n_frames = int(min(3000000, recording.get_num_frames()))\n",
    "recording = recording.frame_slice(start_frame=0, end_frame=n_frames)"
   ]
  },
  {
   "cell_type": "code",
   "execution_count": null,
   "id": "365f918a-0a9d-4610-9e28-550e98044487",
   "metadata": {},
   "outputs": [],
   "source": [
    "# Run sorters\n",
    "sorter_name = \"kilosort3\"\n",
    "Kilosort3Sorter.set_kilosort3_path(\"/media/luiz/storage2/Github/Kilosort\")\n",
    "\n",
    "sorter_job_kwargs = {\n",
    "    \"n_jobs\": int(os.cpu_count()), \n",
    "    \"chunk_duration\": \"2s\", \n",
    "    \"progress_bar\": True,\n",
    "}\n",
    "\n",
    "get_sorter_params_description(sorter_name)"
   ]
  },
  {
   "cell_type": "code",
   "execution_count": null,
   "id": "1ed022ab-a7e7-4d7c-9f57-3eb3b9939f47",
   "metadata": {},
   "outputs": [],
   "source": [
    "output_folder = f\"{folder_path}/sorting/{sorter_name}\"\n",
    "sorting = run_sorter_local(\n",
    "    sorter_name, \n",
    "    recording, \n",
    "    output_folder=output_folder,\n",
    "    remove_existing_folder=True, \n",
    "    delete_output_folder=True,\n",
    "    verbose=True, \n",
    "    raise_error=True, \n",
    "    with_output=True,\n",
    "    **sorter_job_kwargs\n",
    ")\n",
    "sorting.save_to_folder(folder=f'{folder_path}/sorter_exported_{sorter_name}')"
   ]
  },
  {
   "cell_type": "code",
   "execution_count": null,
   "id": "57070e22-17bf-4141-991e-6382ab6181d0",
   "metadata": {},
   "outputs": [],
   "source": []
  }
 ],
 "metadata": {
  "kernelspec": {
   "display_name": "env_shuler",
   "language": "python",
   "name": "env_shuler"
  },
  "language_info": {
   "codemirror_mode": {
    "name": "ipython",
    "version": 3
   },
   "file_extension": ".py",
   "mimetype": "text/x-python",
   "name": "python",
   "nbconvert_exporter": "python",
   "pygments_lexer": "ipython3",
   "version": "3.8.15"
  }
 },
 "nbformat": 4,
 "nbformat_minor": 5
}
