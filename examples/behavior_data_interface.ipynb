{
 "cells": [
  {
   "cell_type": "code",
   "execution_count": null,
   "id": "5f7a46bd-95c9-411f-aba7-a4e899b40b6d",
   "metadata": {
    "tags": []
   },
   "outputs": [],
   "source": [
    "%load_ext autoreload\n",
    "%autoreload 2"
   ]
  },
  {
   "cell_type": "code",
   "execution_count": null,
   "id": "850b4a8d-7f49-45a2-9a43-6893d25e8db2",
   "metadata": {
    "tags": []
   },
   "outputs": [],
   "source": [
    "from shuler_lab_to_nwb.behavior_datainterface import ShulerBehaviorInterface\n",
    "from pathlib import Path\n",
    "from datetime import datetime\n",
    "from dateutil import tz"
   ]
  },
  {
   "cell_type": "code",
   "execution_count": null,
   "id": "61c8851e-5441-4392-a01a-41f7292d7ccb",
   "metadata": {
    "tags": []
   },
   "outputs": [],
   "source": [
    "trials_file = str(Path(\"ES029_2022-09-14_bot72_0_g0/data_2022-09-14_12-13-31.csv\"))\n",
    "reference_ts_file = str(Path(\"ES029_2022-09-14_bot72_0_g0/ES029_2022-09-14_bot72_0_g0_tcat.imec0.ap.SY_384_6_0.txt\").resolve())\n",
    "\n",
    "data_interface = ShulerBehaviorInterface(\n",
    "    trials_file_path=trials_file,\n",
    "    reference_timestamps_file_path=reference_ts_file\n",
    ")"
   ]
  },
  {
   "cell_type": "code",
   "execution_count": null,
   "id": "a603f9fd-d097-4caa-a4eb-adc18765d52b",
   "metadata": {
    "tags": []
   },
   "outputs": [],
   "source": [
    "metadata = data_interface.get_metadata()\n",
    "session_start_time = datetime(2020, 1, 1, 12, 30, 0, tzinfo=tz.gettz(\"US/Pacific\"))\n",
    "metadata['NWBFile'].update(session_start_time=session_start_time)\n",
    "metadata"
   ]
  },
  {
   "cell_type": "code",
   "execution_count": null,
   "id": "16f2e12f-50e3-4c1a-a807-c1e528c51bb5",
   "metadata": {
    "tags": []
   },
   "outputs": [],
   "source": [
    "data_interface.run_conversion(\n",
    "    nwbfile_path=\"quicktest.nwb\",\n",
    "    metadata=metadata,\n",
    "    overwrite=True\n",
    ")"
   ]
  },
  {
   "cell_type": "code",
   "execution_count": null,
   "id": "574ec7e3-5213-4c84-ab39-18e4ee2ff5f9",
   "metadata": {
    "tags": []
   },
   "outputs": [],
   "source": [
    "from pynwb import NWBHDF5IO\n",
    "from nwbwidgets import nwb2widget\n",
    "\n",
    "io = NWBHDF5IO('quicktest.nwb', mode='r')\n",
    "nwbfile = io.read()\n",
    "\n",
    "nwb2widget(nwbfile)"
   ]
  }
 ],
 "metadata": {
  "kernelspec": {
   "display_name": "env_shuler",
   "language": "python",
   "name": "python3"
  },
  "language_info": {
   "codemirror_mode": {
    "name": "ipython",
    "version": 3
   },
   "file_extension": ".py",
   "mimetype": "text/x-python",
   "name": "python",
   "nbconvert_exporter": "python",
   "pygments_lexer": "ipython3",
   "version": "3.8.15"
  }
 },
 "nbformat": 4,
 "nbformat_minor": 5
}
