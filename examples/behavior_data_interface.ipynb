{
 "cells": [
  {
   "cell_type": "code",
   "execution_count": null,
   "id": "5f7a46bd-95c9-411f-aba7-a4e899b40b6d",
   "metadata": {
    "tags": []
   },
   "outputs": [],
   "source": [
    "%load_ext autoreload\n",
    "%autoreload 2"
   ]
  },
  {
   "attachments": {},
   "cell_type": "markdown",
   "id": "0b2d5ad0",
   "metadata": {},
   "source": [
    "# Behavior Data Interface"
   ]
  },
  {
   "cell_type": "code",
   "execution_count": null,
   "id": "850b4a8d-7f49-45a2-9a43-6893d25e8db2",
   "metadata": {
    "tags": []
   },
   "outputs": [],
   "source": [
    "from shuler_lab_to_nwb.behavior_datainterface import ShulerBehaviorInterface\n",
    "from datetime import datetime\n",
    "from dateutil import tz"
   ]
  },
  {
   "cell_type": "code",
   "execution_count": null,
   "id": "61c8851e-5441-4392-a01a-41f7292d7ccb",
   "metadata": {
    "tags": []
   },
   "outputs": [],
   "source": [
    "# Source data files\n",
    "trials_file = \"/media/luiz/storage2/taufferconsulting/client_catalystneuro/project_shuler/ES029_2022-09-14_bot72_0_g0/data_2022-09-14_12-13-31.csv\"\n",
    "reference_ts_file = \"/media/luiz/storage2/taufferconsulting/client_catalystneuro/project_shuler/ES029_2022-09-14_bot72_0_g0/ES029_2022-09-14_bot72_0_g0_tcat.imec0.ap.SY_384_6_0.txt\"\n",
    "\n",
    "# Instantiate data interface\n",
    "data_interface = ShulerBehaviorInterface(\n",
    "    trials_file_path=trials_file,\n",
    "    reference_timestamps_file_path=reference_ts_file\n",
    ")\n",
    "\n",
    "# Edit metadata\n",
    "metadata = data_interface.get_metadata()\n",
    "session_start_time = datetime(2020, 1, 1, 12, 30, 0, tzinfo=tz.gettz(\"US/Pacific\"))\n",
    "metadata['NWBFile'].update(session_start_time=session_start_time)\n",
    "\n",
    "# Run conversion\n",
    "data_interface.run_conversion(\n",
    "    nwbfile_path=\"quicktest.nwb\",\n",
    "    metadata=metadata,\n",
    "    overwrite=True\n",
    ")"
   ]
  },
  {
   "cell_type": "code",
   "execution_count": null,
   "id": "a603f9fd-d097-4caa-a4eb-adc18765d52b",
   "metadata": {
    "tags": []
   },
   "outputs": [],
   "source": [
    "from pynwb import NWBHDF5IO\n",
    "from nwbwidgets import nwb2widget\n",
    "\n",
    "io = NWBHDF5IO('quicktest.nwb', mode='r')\n",
    "nwbfile = io.read()\n",
    "\n",
    "nwb2widget(nwbfile)"
   ]
  },
  {
   "attachments": {},
   "cell_type": "markdown",
   "id": "682706ec",
   "metadata": {},
   "source": [
    "# Full conversion: SpikeGLX + Behavior"
   ]
  },
  {
   "cell_type": "code",
   "execution_count": null,
   "id": "16f2e12f-50e3-4c1a-a807-c1e528c51bb5",
   "metadata": {
    "tags": []
   },
   "outputs": [],
   "source": [
    "from shuler_lab_to_nwb.nwbconverter import ShulerNWBConverter\n",
    "import json"
   ]
  },
  {
   "cell_type": "code",
   "execution_count": null,
   "id": "53125583",
   "metadata": {},
   "outputs": [],
   "source": [
    "# Optionally, you can also create a converter class that inherits from NWBConverter\n",
    "# Using custom converter classes allows you to combine any number of data interfaces\n",
    "from neuroconv import NWBConverter\n",
    "from neuroconv.datainterfaces import SpikeGLXRecordingInterface\n",
    "from shuler_lab_to_nwb.behavior_datainterface import ShulerBehaviorInterface\n",
    "\n",
    "class ShulerNWBConverter(NWBConverter):\n",
    "    data_interface_classes = dict(\n",
    "        Recording=SpikeGLXRecordingInterface,\n",
    "        Behavior=ShulerBehaviorInterface,\n",
    "    )"
   ]
  },
  {
   "cell_type": "code",
   "execution_count": null,
   "id": "574ec7e3-5213-4c84-ab39-18e4ee2ff5f9",
   "metadata": {
    "tags": []
   },
   "outputs": [],
   "source": [
    "# Source data files\n",
    "spikeglx_file_path=\"/media/luiz/storage2/taufferconsulting/client_catalystneuro/project_shuler/ES029_2022-09-14_bot72_0_g0/ES029_2022-09-14_bot72_0_g0_imec0/ES029_2022-09-14_bot72_0_g0_t0.imec0.ap.bin\"\n",
    "subject_metadata_file_path=\"/media/luiz/storage2/taufferconsulting/client_catalystneuro/project_shuler/ES029_2022-09-14_bot72_0_g0/subject_metadata.json\"\n",
    "trials_file = \"/media/luiz/storage2/taufferconsulting/client_catalystneuro/project_shuler/ES029_2022-09-14_bot72_0_g0/data_2022-09-14_12-13-31.csv\"\n",
    "reference_ts_file = \"/media/luiz/storage2/taufferconsulting/client_catalystneuro/project_shuler/ES029_2022-09-14_bot72_0_g0/ES029_2022-09-14_bot72_0_g0_tcat.imec0.ap.SY_384_6_0.txt\"\n",
    "\n",
    "source_data = dict(\n",
    "    Recording=dict(\n",
    "        file_path=spikeglx_file_path,\n",
    "    ),\n",
    "    Behavior=dict(\n",
    "        trials_file_path=trials_file,\n",
    "        reference_timestamps_file_path=reference_ts_file\n",
    "    )\n",
    ")\n",
    "\n",
    "# Instantiate converter\n",
    "converter = ShulerNWBConverter(source_data=source_data)\n",
    "\n",
    "# Edit metadata\n",
    "metadata = converter.get_metadata()\n",
    "with open(subject_metadata_file_path, 'r') as f:\n",
    "    subject_metadata = json.load(f)\n",
    "metadata['Subject'].update(subject_metadata)\n",
    "\n",
    "# Run conversion\n",
    "converter.run_conversion(\n",
    "    nwbfile_path=\"quicktest_full.nwb\",\n",
    "    metadata=metadata,\n",
    "    overwrite=True\n",
    ")\n"
   ]
  },
  {
   "cell_type": "code",
   "execution_count": null,
   "id": "12a8f0d9",
   "metadata": {},
   "outputs": [],
   "source": [
    "from pynwb import NWBHDF5IO\n",
    "from nwbwidgets import nwb2widget\n",
    "\n",
    "io = NWBHDF5IO('quicktest_full.nwb', mode='r')\n",
    "nwbfile = io.read()\n",
    "\n",
    "nwb2widget(nwbfile)"
   ]
  },
  {
   "cell_type": "code",
   "execution_count": null,
   "id": "2511219a",
   "metadata": {},
   "outputs": [],
   "source": []
  }
 ],
 "metadata": {
  "kernelspec": {
   "display_name": "env_shuler",
   "language": "python",
   "name": "python3"
  },
  "language_info": {
   "codemirror_mode": {
    "name": "ipython",
    "version": 3
   },
   "file_extension": ".py",
   "mimetype": "text/x-python",
   "name": "python",
   "nbconvert_exporter": "python",
   "pygments_lexer": "ipython3",
   "version": "3.8.15"
  }
 },
 "nbformat": 4,
 "nbformat_minor": 5
}
