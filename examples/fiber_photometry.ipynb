{
 "cells": [
  {
   "cell_type": "code",
   "execution_count": null,
   "id": "66820563",
   "metadata": {},
   "outputs": [],
   "source": [
    "%load_ext autoreload\n",
    "%autoreload 2"
   ]
  },
  {
   "attachments": {},
   "cell_type": "markdown",
   "id": "38bfcee3",
   "metadata": {},
   "source": [
    "# Fiber Photometry Data Interface"
   ]
  },
  {
   "cell_type": "code",
   "execution_count": null,
   "id": "1c83a27c",
   "metadata": {},
   "outputs": [],
   "source": [
    "from shuler_lab_to_nwb.fiberphotometry_datainterface import ShulerFiberPhotometryInterface"
   ]
  },
  {
   "cell_type": "code",
   "execution_count": null,
   "id": "d0394257",
   "metadata": {},
   "outputs": [],
   "source": [
    "# Source data files\n",
    "photometry_file_path = \"/media/luiz/storage2/taufferconsulting/client_catalystneuro/project_shuler/imaging_data/Example_session_dataset/FP_animal_2022-12-09T16_25_21.csv\"\n",
    "metadata_file_path = \"/media/luiz/storage2/Github/shuler-lab-to-nwb/shuler_lab_to_nwb/fiberphotometry_datainterface/metadata.yaml\"\n",
    "\n",
    "# Instantiate data interface\n",
    "data_interface = ShulerFiberPhotometryInterface(\n",
    "    photometry_file_path=photometry_file_path,\n",
    "    metadata_file_path=metadata_file_path,\n",
    ")\n",
    "\n",
    "# Run conversion\n",
    "data_interface.run_conversion(\n",
    "    nwbfile_path=\"quicktest.nwb\",\n",
    "    overwrite=True\n",
    ")"
   ]
  },
  {
   "cell_type": "code",
   "execution_count": null,
   "id": "365fd0ce",
   "metadata": {},
   "outputs": [],
   "source": []
  },
  {
   "cell_type": "code",
   "execution_count": null,
   "id": "79b96ea7",
   "metadata": {},
   "outputs": [],
   "source": []
  },
  {
   "cell_type": "code",
   "execution_count": null,
   "id": "d2147172",
   "metadata": {},
   "outputs": [],
   "source": []
  },
  {
   "cell_type": "code",
   "execution_count": null,
   "id": "2b4ecbad-276f-40cd-a8a6-1883692ad20b",
   "metadata": {
    "tags": []
   },
   "outputs": [],
   "source": [
    "import pandas as pd\n",
    "\n",
    "# df_arduino = pd.read_csv(\n",
    "#     \"imaging_data/Example_session_dataset/arduino_event_record_2022-12-09T16_25_19.csv\",\n",
    "#     sep=\" \",\n",
    "#     header=None,\n",
    "#     names=[\"reward\", \"timestamp\"],\n",
    "#     index_col=False\n",
    "# )\n",
    "\n",
    "df_fp = pd.read_csv(\n",
    "    \"/media/luiz/storage2/taufferconsulting/client_catalystneuro/project_shuler/imaging_data/Example_session_dataset/FP_animal_2022-12-09T16_25_21.csv\",\n",
    "    sep=\" \",\n",
    "    header=None,\n",
    "    names=[\"timestamp\", \"unknown\", \"GFP_first_branch\", \"RFP_first_branch\", \"GFP_second_branch\", \"RFP_second_branch\"],\n",
    "    index_col=False\n",
    ")\n",
    "df_fp = df_fp.drop(columns=[\"unknown\"])\n",
    "df_fp[\"timestamp\"] = df_fp[\"timestamp\"] / 1000\n",
    "df_fp "
   ]
  },
  {
   "cell_type": "code",
   "execution_count": null,
   "id": "fa2e3a33-e18f-416a-82a6-0b99d452ebfe",
   "metadata": {
    "tags": []
   },
   "outputs": [],
   "source": [
    "df_fp.index % 2 == 0"
   ]
  },
  {
   "cell_type": "code",
   "execution_count": null,
   "id": "46e5dd2a-ea4c-4264-ae3c-f8fefe19f82d",
   "metadata": {
    "tags": []
   },
   "outputs": [],
   "source": []
  },
  {
   "cell_type": "code",
   "execution_count": null,
   "id": "23a8889f-61ca-44b4-ae97-242aefef503d",
   "metadata": {},
   "outputs": [],
   "source": []
  },
  {
   "cell_type": "code",
   "execution_count": null,
   "id": "a18c6211",
   "metadata": {},
   "outputs": [],
   "source": []
  },
  {
   "cell_type": "code",
   "execution_count": null,
   "id": "e7f95165",
   "metadata": {},
   "outputs": [],
   "source": []
  },
  {
   "cell_type": "code",
   "execution_count": null,
   "id": "766a675d",
   "metadata": {
    "tags": []
   },
   "outputs": [],
   "source": [
    "from hdmf.common import DynamicTableRegion\n",
    "from ndx_photometry import FibersTable, FiberPhotometry, ExcitationSourcesTable, PhotodetectorsTable, FluorophoresTable\n",
    "from pynwb import NWBFile\n",
    "from pynwb.ophys import RoiResponseSeries"
   ]
  },
  {
   "cell_type": "code",
   "execution_count": null,
   "id": "640cdf13",
   "metadata": {
    "tags": []
   },
   "outputs": [],
   "source": [
    "ft = FibersTable(description=\"des\")"
   ]
  },
  {
   "cell_type": "code",
   "execution_count": null,
   "id": "251128ee-b6e2-4e3a-81da-8d6da55ef0a4",
   "metadata": {
    "tags": []
   },
   "outputs": [],
   "source": [
    "ft.add_row(location=\"des\", notes=\"not\", excitation_source=0, photodetector=0, fluorophores=0)"
   ]
  },
  {
   "cell_type": "code",
   "execution_count": null,
   "id": "3a30d45c-ed92-430a-919d-d20b19649750",
   "metadata": {
    "tags": []
   },
   "outputs": [],
   "source": [
    "ft"
   ]
  },
  {
   "cell_type": "code",
   "execution_count": null,
   "id": "568d4b5b-df42-4a74-8a07-b5add077a78d",
   "metadata": {},
   "outputs": [],
   "source": []
  }
 ],
 "metadata": {
  "kernelspec": {
   "display_name": "env_shuler",
   "language": "python",
   "name": "python3"
  },
  "language_info": {
   "codemirror_mode": {
    "name": "ipython",
    "version": 3
   },
   "file_extension": ".py",
   "mimetype": "text/x-python",
   "name": "python",
   "nbconvert_exporter": "python",
   "pygments_lexer": "ipython3",
   "version": "3.8.15"
  }
 },
 "nbformat": 4,
 "nbformat_minor": 5
}
