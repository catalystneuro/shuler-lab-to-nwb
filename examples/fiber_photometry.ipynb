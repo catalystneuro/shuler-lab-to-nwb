{
 "cells": [
  {
   "cell_type": "code",
   "execution_count": null,
   "id": "66820563",
   "metadata": {},
   "outputs": [],
   "source": [
    "%load_ext autoreload\n",
    "%autoreload 2"
   ]
  },
  {
   "attachments": {},
   "cell_type": "markdown",
   "id": "38bfcee3",
   "metadata": {},
   "source": [
    "# Fiber Photometry Data Interface"
   ]
  },
  {
   "cell_type": "code",
   "execution_count": null,
   "id": "1c83a27c",
   "metadata": {},
   "outputs": [],
   "source": [
    "from shuler_lab_to_nwb.fiberphotometry_datainterface import ShulerFiberPhotometryInterface"
   ]
  },
  {
   "cell_type": "code",
   "execution_count": null,
   "id": "d0394257",
   "metadata": {
    "collapsed": true,
    "jupyter": {
     "outputs_hidden": true
    },
    "tags": []
   },
   "outputs": [],
   "source": [
    "# Source data files\n",
    "photometry_file_path = \"/media/luiz/storage2/taufferconsulting/client_catalystneuro/project_shuler/imaging_data/Example_session_dataset/FP_animal_2022-12-09T16_25_21.csv\"\n",
    "metadata_file_path = \"/media/luiz/storage2/Github/shuler-lab-to-nwb/shuler_lab_to_nwb/fiberphotometry_datainterface/metadata.yaml\"\n",
    "\n",
    "# Instantiate data interface\n",
    "data_interface = ShulerFiberPhotometryInterface(\n",
    "    photometry_file_path=photometry_file_path,\n",
    "    metadata_file_path=metadata_file_path,\n",
    ")\n",
    "\n",
    "# Run conversion\n",
    "data_interface.run_conversion(\n",
    "    nwbfile_path=\"quicktest.nwb\",\n",
    "    overwrite=True\n",
    ")"
   ]
  },
  {
   "cell_type": "code",
   "execution_count": null,
   "id": "365fd0ce",
   "metadata": {},
   "outputs": [],
   "source": []
  },
  {
   "cell_type": "code",
   "execution_count": null,
   "id": "79b96ea7",
   "metadata": {
    "tags": []
   },
   "outputs": [],
   "source": [
    "from ndx_photometry import FibersTable, FiberPhotometry, ExcitationSourcesTable\n",
    "\n",
    "t = ExcitationSourcesTable(description=\"desc\")"
   ]
  },
  {
   "cell_type": "code",
   "execution_count": null,
   "id": "486f6820-f684-4b9e-a56b-8e7cbe9ecadb",
   "metadata": {},
   "outputs": [],
   "source": []
  },
  {
   "cell_type": "code",
   "execution_count": null,
   "id": "8002f860-ece9-4e43-8cdc-7a21717fddc7",
   "metadata": {},
   "outputs": [],
   "source": []
  },
  {
   "cell_type": "code",
   "execution_count": null,
   "id": "d2147172",
   "metadata": {},
   "outputs": [],
   "source": []
  },
  {
   "cell_type": "code",
   "execution_count": null,
   "id": "2b4ecbad-276f-40cd-a8a6-1883692ad20b",
   "metadata": {
    "tags": []
   },
   "outputs": [],
   "source": [
    "import pandas as pd\n",
    "\n",
    "# df_arduino = pd.read_csv(\n",
    "#     \"imaging_data/Example_session_dataset/arduino_event_record_2022-12-09T16_25_19.csv\",\n",
    "#     sep=\" \",\n",
    "#     header=None,\n",
    "#     names=[\"reward\", \"timestamp\"],\n",
    "#     index_col=False\n",
    "# )\n",
    "\n",
    "df_fp = pd.read_csv(\n",
    "    \"/media/luiz/storage2/taufferconsulting/client_catalystneuro/project_shuler/imaging_data/Example_session_dataset/FP_animal_2022-12-09T16_25_21.csv\",\n",
    "    sep=\" \",\n",
    "    header=None,\n",
    "    names=[\"timestamp\", \"unknown\", \"GFP_first_branch\", \"RFP_first_branch\", \"GFP_second_branch\", \"RFP_second_branch\"],\n",
    "    index_col=False\n",
    ")\n",
    "df_fp = df_fp.drop(columns=[\"unknown\"])\n",
    "df_fp[\"timestamp\"] = df_fp[\"timestamp\"] / 1000\n",
    "df_fp "
   ]
  },
  {
   "cell_type": "code",
   "execution_count": null,
   "id": "fa2e3a33-e18f-416a-82a6-0b99d452ebfe",
   "metadata": {
    "tags": []
   },
   "outputs": [],
   "source": [
    "df_fp.index % 2 == 0"
   ]
  },
  {
   "cell_type": "code",
   "execution_count": null,
   "id": "46e5dd2a-ea4c-4264-ae3c-f8fefe19f82d",
   "metadata": {
    "tags": []
   },
   "outputs": [],
   "source": []
  }
 ],
 "metadata": {
  "kernelspec": {
   "display_name": "Python 3 (ipykernel)",
   "language": "python",
   "name": "python3"
  },
  "language_info": {
   "codemirror_mode": {
    "name": "ipython",
    "version": 3
   },
   "file_extension": ".py",
   "mimetype": "text/x-python",
   "name": "python",
   "nbconvert_exporter": "python",
   "pygments_lexer": "ipython3",
   "version": "3.8.15"
  }
 },
 "nbformat": 4,
 "nbformat_minor": 5
}
