{
 "cells": [
  {
   "cell_type": "code",
   "execution_count": 1,
   "id": "29759814-b668-4e7b-b446-f910d9642d1b",
   "metadata": {},
   "outputs": [],
   "source": [
    "%load_ext autoreload\n",
    "%autoreload 2"
   ]
  },
  {
   "cell_type": "code",
   "execution_count": 2,
   "id": "c7ffc2e0-f2bb-4a08-a654-04d5761eff8a",
   "metadata": {},
   "outputs": [],
   "source": [
    "from batch_client import AWSBatch\n",
    "from datetime import datetime"
   ]
  },
  {
   "cell_type": "code",
   "execution_count": 9,
   "id": "6d8aad60-01f3-4a80-9e06-d7c9a51849b3",
   "metadata": {},
   "outputs": [
    {
     "name": "stdout",
     "output_type": "stream",
     "text": [
      "Existing Job Queues: ['spikeline-queue']\n",
      "Existing Job Definitions: ['test-jd']\n"
     ]
    }
   ],
   "source": [
    "# Instantiate client\n",
    "batch = AWSBatch(profile_name='shulerlab')\n",
    "\n",
    "# Get existing job queues and job definitions\n",
    "my_job_queues = batch.list_job_queues()\n",
    "my_job_definitions = batch.list_job_definitions()\n",
    "\n",
    "print(f\"Existing Job Queues: {[j.get('jobQueueName') for j in my_job_queues]}\")\n",
    "print(f\"Existing Job Definitions: {[j.get('jobDefinitionName') for j in my_job_definitions]}\")"
   ]
  },
  {
   "cell_type": "code",
   "execution_count": 10,
   "id": "2581d4f5-b88c-46e6-9c56-c2ecb4eea2aa",
   "metadata": {},
   "outputs": [],
   "source": [
    "# Define job arguments\n",
    "job_kwargs = {\n",
    "    \"SOURCE_AWS_S3_BUCKET\": \"sample-si\",\n",
    "    \"SOURCE_AWS_S3_BUCKET_FOLDER\": \"ES029_2022-09-14_bot72_0_g0_imec0\",\n",
    "    \"TARGET_AWS_S3_BUCKET\": \"sample-si\",\n",
    "    \"TARGET_AWS_S3_BUCKET_FOLDER\": \"results\",\n",
    "    \"DATA_TYPE\": \"spikeglx\",\n",
    "    \"READ_RECORDING_KWARGS\": {\"stream_id\": \"imec.ap\"},\n",
    "    \"SORTERS\": \"kilosort2_5,kilosort3\"\n",
    "}\n",
    "\n",
    "# Submit job\n",
    "response_job = batch.submit_job(\n",
    "    job_name=\"my-job-from-notebook-extended-storage-12\", \n",
    "    job_queue=my_job_queues[0][\"jobQueueName\"],\n",
    "    job_definition=my_job_definitions[0][\"jobDefinitionName\"],\n",
    "    job_kwargs=job_kwargs, \n",
    ")"
   ]
  },
  {
   "cell_type": "code",
   "execution_count": null,
   "id": "d97eb8ba-f6fd-44d0-b59f-922172da8f0b",
   "metadata": {},
   "outputs": [],
   "source": [
    "# Check job status every 60 seconds, until succeeded\n",
    "out = False\n",
    "while not out:\n",
    "    r = batch.describe_job(job_id=response_job[\"jobId\"])\n",
    "    status = r[\"status\"]\n",
    "    print(f\"Job status: {status}\")\n",
    "    if status == \"SUCCEEDED\":\n",
    "        out = True\n",
    "\n",
    "# Get Job logs\n",
    "log_events = batch.get_job_logs(job_id=response_job[\"jobId\"])\n",
    "for e in log_events:\n",
    "    msg = datetime.fromtimestamp(e[\"timestamp\"]/1000.).strftime(\"%d/%m/%Y, %H:%M:%S\") + ' - ' + e[\"message\"]\n",
    "    print(msg)"
   ]
  },
  {
   "cell_type": "code",
   "execution_count": 11,
   "id": "f92de8f7-fda5-488d-b2a4-6aec0a65ab0a",
   "metadata": {},
   "outputs": [
    {
     "data": {
      "text/plain": [
       "'SUBMITTED'"
      ]
     },
     "execution_count": 11,
     "metadata": {},
     "output_type": "execute_result"
    }
   ],
   "source": [
    "r = batch.describe_job(job_id=response_job[\"jobId\"])\n",
    "r[\"status\"]"
   ]
  },
  {
   "cell_type": "code",
   "execution_count": null,
   "id": "511e8d5c-d624-427e-9069-08c3d407248c",
   "metadata": {},
   "outputs": [],
   "source": []
  }
 ],
 "metadata": {
  "kernelspec": {
   "display_name": "env_shuler",
   "language": "python",
   "name": "env_shuler"
  },
  "language_info": {
   "codemirror_mode": {
    "name": "ipython",
    "version": 3
   },
   "file_extension": ".py",
   "mimetype": "text/x-python",
   "name": "python",
   "nbconvert_exporter": "python",
   "pygments_lexer": "ipython3",
   "version": "3.8.15"
  }
 },
 "nbformat": 4,
 "nbformat_minor": 5
}
