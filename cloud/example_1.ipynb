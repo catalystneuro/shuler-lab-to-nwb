{
 "cells": [
  {
   "cell_type": "code",
   "execution_count": null,
   "id": "29759814-b668-4e7b-b446-f910d9642d1b",
   "metadata": {},
   "outputs": [],
   "source": [
    "%load_ext autoreload\n",
    "%autoreload 2"
   ]
  },
  {
   "cell_type": "code",
   "execution_count": null,
   "id": "c7ffc2e0-f2bb-4a08-a654-04d5761eff8a",
   "metadata": {},
   "outputs": [],
   "source": [
    "from batch_client import AWSBatch\n",
    "from datetime import datetime\n",
    "from spikeinterface.sorters import get_default_sorter_params"
   ]
  },
  {
   "cell_type": "code",
   "execution_count": null,
   "id": "6d8aad60-01f3-4a80-9e06-d7c9a51849b3",
   "metadata": {},
   "outputs": [],
   "source": [
    "# Instantiate client\n",
    "batch = AWSBatch(profile_name='shulerlab')\n",
    "\n",
    "# Get existing job queues and job definitions\n",
    "my_job_queues = batch.list_job_queues()\n",
    "my_job_definitions = batch.list_job_definitions()\n",
    "\n",
    "print(f\"Existing Job Queues: {[j.get('jobQueueName') for j in my_job_queues]}\")\n",
    "print(f\"Existing Job Definitions: {[j.get('jobDefinitionName') + ':' + str(j.get('revision')) for j in my_job_definitions]}\")"
   ]
  },
  {
   "cell_type": "code",
   "execution_count": null,
   "id": "593005d9-b234-4f22-8dbe-b5cc4923d8f7",
   "metadata": {
    "tags": []
   },
   "outputs": [],
   "source": [
    "# Define sorters and sorter parameters\n",
    "sorters_names = [\"kilosort2_5\", \"kilosort3\"]\n",
    "sorters_params = dict()\n",
    "for s in sorters_names:\n",
    "    sorters_params[s] = get_default_sorter_params(s)\n",
    "    sorters_params[s].update({\n",
    "        \"n_jobs\": 8, \n",
    "        \"chunk_duration\": \"2s\", \n",
    "        \"progress_bar\": True,\n",
    "    })\n",
    "\n",
    "sorters_params"
   ]
  },
  {
   "cell_type": "code",
   "execution_count": null,
   "id": "2581d4f5-b88c-46e6-9c56-c2ecb4eea2aa",
   "metadata": {},
   "outputs": [],
   "source": [
    "# Define job arguments\n",
    "job_kwargs = {\n",
    "    \"SOURCE_AWS_S3_BUCKET\": \"sample-si\",\n",
    "    \"SOURCE_AWS_S3_BUCKET_FOLDER\": \"ES029_2022-09-14_bot72_0_g0_imec0\",\n",
    "    \"TARGET_AWS_S3_BUCKET\": \"sample-si\",\n",
    "    \"TARGET_AWS_S3_BUCKET_FOLDER\": \"results\",\n",
    "    \"DATA_TYPE\": \"spikeglx\",\n",
    "    # \"READ_RECORDING_KWARGS\": {\"stream_id\": \"imec.ap\"},\n",
    "    \"SORTERS\": \",\".join(sorters_names),\n",
    "    \"SORTERS_PARAMS\": sorters_params,\n",
    "    \"TEST_WITH_SUB_RECORDING\": True,\n",
    "    \"SUB_RECORDING_N_FRAMES\": 33180000\n",
    "}\n",
    "\n",
    "# Submit job\n",
    "response_job = batch.submit_job(\n",
    "    job_name=\"my-job-from-notebook-extended-storage-17\", \n",
    "    job_queue=my_job_queues[0][\"jobQueueName\"],\n",
    "    job_definition=my_job_definitions[0][\"jobDefinitionName\"] + \":\" + str(my_job_definitions[0][\"revision\"]),\n",
    "    job_kwargs=job_kwargs,\n",
    "    attempt_duration_seconds=7200,\n",
    ")"
   ]
  },
  {
   "cell_type": "code",
   "execution_count": null,
   "id": "473850b5-d16a-43b2-9fd3-1006c968ece8",
   "metadata": {},
   "outputs": [],
   "source": [
    "r = batch.describe_job(job_id=response_job[\"jobId\"])\n",
    "r[\"status\"]"
   ]
  },
  {
   "cell_type": "code",
   "execution_count": null,
   "id": "d97eb8ba-f6fd-44d0-b59f-922172da8f0b",
   "metadata": {},
   "outputs": [],
   "source": [
    "# Check job status every 60 seconds, until succeeded\n",
    "out = False\n",
    "while not out:\n",
    "    r = batch.describe_job(job_id=response_job[\"jobId\"])\n",
    "    status = r[\"status\"]\n",
    "    print(f\"Job status: {status}\")\n",
    "    if status == \"SUCCEEDED\":\n",
    "        out = True\n",
    "\n",
    "# Get Job logs\n",
    "log_events = batch.get_job_logs(job_id=response_job[\"jobId\"])\n",
    "for e in log_events:\n",
    "    msg = datetime.fromtimestamp(e[\"timestamp\"]/1000.).strftime(\"%d/%m/%Y, %H:%M:%S\") + ' - ' + e[\"message\"]\n",
    "    print(msg)"
   ]
  },
  {
   "cell_type": "code",
   "execution_count": null,
   "id": "73effa86-8868-442d-92f6-456513e5c0fe",
   "metadata": {},
   "outputs": [],
   "source": []
  }
 ],
 "metadata": {
  "kernelspec": {
   "display_name": "env_shuler",
   "language": "python",
   "name": "env_shuler"
  },
  "language_info": {
   "codemirror_mode": {
    "name": "ipython",
    "version": 3
   },
   "file_extension": ".py",
   "mimetype": "text/x-python",
   "name": "python",
   "nbconvert_exporter": "python",
   "pygments_lexer": "ipython3",
   "version": "3.8.15"
  }
 },
 "nbformat": 4,
 "nbformat_minor": 5
}
